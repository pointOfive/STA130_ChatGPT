{
 "cells": [
  {
   "cell_type": "markdown",
   "id": "fa8cc949",
   "metadata": {},
   "source": [
    "0. Get to the [Course GitHub Repo](https://github.com/pointOfive/STA130_ChatGPT) from Quercus\n",
    "\n",
    "#### Demo [30 minutes]\n",
    "1. Demonstrate Jupyter Notebooks as a \"python calculator\"\n",
    "2. Demonstrate Jupyter Notebooks as a [\"Markdown editor\"](http://markdownguide.org)\n",
    "3. Use [ChatGPT](https://chat.openai.com/) to help you with\n",
    "   1. finding an amusing, funny, or otherwise interesting data set *with missing values* [which might take some *coercing...*]\n",
    "    2. loading data with `pandas` and `import` in your notebook (possible with a \"url\" instead of a local file?)\n",
    "    3. and using and understanding `pd.describe` (with only brief details on the *statistics*) and analyzing missingness [which might take some *coercing...*]\n",
    "4. Save your python jupyter notebook in your own account and \"repo\" on [github.com](github.com)\n",
    "\n",
    "        \n",
    "#### Communication\n",
    "        \n",
    "1. In 6 groups of 4...\n",
    "    1. **[24 minutes]** Ice breakers / introductions\n",
    "    2. **[10 minutes]** Monty Hall problem\n",
    "    3. **[10 minutes]** World War II planes problem\n",
    "    \n",
    "4. [36 minutes] Discuss the answers to these questions as a group\n",
    "    1. Evlauate ChatGPT's ability to correctly answer and clearly explain these \"simple statisics paradoxes\"\n",
    "    2. How can we prompt ChatGPT to encourage a more detailed / expanded explanation.\n",
    "    3. HOw can we prompt CHatGPT to extend the discussion on these statistics paradoxes.\n",
    "\n",
    "#### Extra\n",
    "    \n",
    "    1. Explore github and explain basic Git functions (if time allows.)\n",
    "\n",
    "#### Homework [0 minutes]\n",
    "\n",
    "> Code and write all your answers in a python notebook (in code and markdown cells) and save your python jupyter notebook in your own account and \"repo\" on [github.com](github.com) and submit a link to that notebook though Quercus for assignment marking.\n",
    "    \n",
    "1. Do the same \"ChatGPT exercise\" from the \"Demo\" to find an interesting data set and provide summaries and analyze missingness in a python notebook \n",
    "2. Use ChatGPT to help figure out how to use `df.dropna()` and `df.group_by(\"col\").describe()` and then explain what they do by giving examples in python with your data set\n",
    "3. Describe what ChatGPT does well immediately versus what requires a little more coercing to make it do what you're asking it to do\n",
    "4. Once you have working code, introduce the following errors into the code, and then share the code and the python errors you get with ChatGPT and see if it can help you identify and correct the coding errors\n",
    "    1. Forget to include `import pandas as pd` in your code (Kernel->Restart the notebook to unload the librarys and start over so you can create this error)\n",
    "    2. Type the file name or url slightly wrong\n",
    "    3. Try to use a dataframe `df` before it's been assigned into the `df` variable\n",
    "    4. Forget one of the parenthesis with the code `df.dropna(.describe()`\n",
    "    5. Mistype one of the names of the chained functions with the code `df.drop_na().describe()`\n",
    "    6. Put a space after one of the periods in `df.dropna().describe()`\n",
    "    7. Use a column name that's not in your data for the `df.group_by(\"col\").describe()` code\n",
    "    8. Forget to put the column name as a string in quotes with the code `df.group_by(col).describe()` \n",
    "5. Now search in google for the python errors that these coding mistakes make and explain whether google or ChatGPT seems to be more helpful for troubleshooting and correcting the error. \n",
    "6. Use ChatGPT to find and explain a new \"simple statisics paradox\" and then paraphrase the problem and explanation in your own words\n",
    "7. Reflect on your experience interacting with ChatGPT and describe how it might have just influenced your perception of AI-driven assistance tools in the context of learning coding, statistics, and data science\n",
    "8. Write why you chose to take this course; specifically, what skills are you hoping to build through this course with repsect to your current ideas about what possible careers you think you'd like to explore\n"
   ]
  },
  {
   "cell_type": "markdown",
   "id": "1c2a6d93",
   "metadata": {},
   "source": []
  }
 ],
 "metadata": {
  "kernelspec": {
   "display_name": "Python 3 (ipykernel)",
   "language": "python",
   "name": "python3"
  },
  "language_info": {
   "codemirror_mode": {
    "name": "ipython",
    "version": 3
   },
   "file_extension": ".py",
   "mimetype": "text/x-python",
   "name": "python",
   "nbconvert_exporter": "python",
   "pygments_lexer": "ipython3",
   "version": "3.11.6"
  }
 },
 "nbformat": 4,
 "nbformat_minor": 5
}
