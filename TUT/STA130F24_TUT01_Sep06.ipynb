{
 "cells": [
  {
   "cell_type": "markdown",
   "id": "fa8cc949",
   "metadata": {},
   "source": [
    "0. Get to the [Course GitHub Repo](https://github.com/pointOfive/STA130_ChatGPT) from Quercus\n",
    "\n",
    "#### Demo [30 minutes]\n",
    "1. Demonstrate Jupyter Notebooks as a \"python calculator\"\n",
    "2. Demonstrate Jupyter Notebooks as a [\"Markdown editor\"](http://markdownguide.org)\n",
    "3. Demonstrate using [ChatGPT](https://chat.openai.com/) to help you with\n",
    "   1. finding an amusing, funny, or otherwise interesting data set **with missing values**\n",
    "        > which might take some *coercing* as [ChatGPT may not do this orrectly right away](https://chat.openai.com/share/b1b053eb-e168-40b9-9196-25f6dfcbf14b)...\n",
    "        1. and loading data with `pandas` and `import` in your notebook (possible with a \"url\" instead of a local file?)\n",
    "            > using ChatGPT to help troubleshoot errors since it might also not do this correctly right away either (as seen in the previous transcript history above)        \n",
    "        2. and confiring the data set has missing values [because very likely ChatGPT may not have done this correctly the first time...]\n",
    "    4. and using and understanding `df.describe()` (with only brief details on the *statistics*) and analyzing missingness [which might take some *coercing...*]\n",
    "4. Demonstrate saving your python jupyter notebook in your own account and \"repo\" on [github.com](github.com)\n",

    "        \n",
    "#### Communication\n",
    "        \n",
    "1. In 6 groups of 4...\n",
    "    1. **[24 minutes]** Ice breakers / introductions\n",
    "    2. **[10 minutes]** World War II planes problem\n",
    "    3. **[10 minutes]** Monte Hall problem\n",
    "(https://chat.openai.com/share/26f74c54-5358-431e-b97a-315fdcb4e2c9)\n",
    "    \n",
    "4. [36 minutes] Discuss the answers to these questions as a group\n",
    "    1. Evlauate ChatGPT's ability to correctly answer and clearly explain these \"simple statisics paradoxes\"\n",
    "        1. Demonstrate that [ChatGPT wrongly calculates the probability as 1/2 when using Bayes theorem]\n",
    "        \n",
    "    2. How can we prompt ChatGPT to encourage a more detailed / expanded explanation.\n",
    "    3. How can we prompt CHatGPT to extend the discussion on these statistics paradoxes.\n",

    "\n",
    "#### Extra\n",
    "    \n",
    "    1. Explore github and explain basic Git functions (if time allows.)\n",
    "\n",
    "#### Homework [0 minutes]\n",
    "\n",
    "> Code and write all your answers in a python notebook (in code and markdown cells) and include the link to your GPTchat transcript history at the top of your notebook. Save your python jupyter notebook in your own account and \"repo\" on [github.com](github.com) and submit a link to that notebook though Quercus for assignment marking. \n",
    "    \n",
    "1. Do the same exercise from the the tutorial of using ChatGPT to help find an interesting data set (but one that is different from the one demonstrated in tutorial) and analyze missingness and provide summaries with `df.describe()` in a python notebook \n",
    "    1. If you run into any errors in running code provided by ChatGPT, share the error with ChatGPT and work with ChatGPT to troubleshoot and fix the coding errors\n",
    "2. Use ChatGPT to help figure out how to use the \"method\" `df.dropna()` and \"attribue\" `df.shape` and examine the later before and after using the former\n",
    "    1. Use ChatGPT to help understand the difference between \"methods\" and \"attributes\" and provide your own paraphrasing summarization of that difference\n",
    "3. Use ChatGPT to understand what `df.group_by(\"col\").describe()` does and then explain this by giving examples in python with your data set\n",
    "4. Describe what ChatGPT does well immediately versus what requires a little more coercing to make it do what you're asking it to do\n",
    "5. Once you have working code, introduce the following errors into the code, and then share the code and the python errors you get with ChatGPT and see if it can help you identify and correct the coding errors\n",
    "    1. Forget to include `import pandas as pd` in your code (Kernel->Restart the notebook to unload the librarys and start over so you can create this error)\n",
    "    2. Type the file name or url slightly wrong\n",
    "    3. Try to use a dataframe `df` before it's been assigned into the `df` variable\n",
    "    4. Forget one of the parenthesis with the code `df.dropna(.describe()`\n",
    "    5. Mistype one of the names of the chained functions with the code `df.drop_na().describe()`\n",
    "    6. Put a space after one of the periods in `df.dropna().describe()`\n",
    "    7. Use a column name that's not in your data for the `df.group_by(\"col\").describe()` code\n",
    "    8. Forget to put the column name as a string in quotes with the code `df.group_by(col).describe()` \n",
    "6. Now search in google for the python errors that these coding mistakes make and explain whether google or ChatGPT seems to be more helpful for troubleshooting and correcting the error\n",
    "7. Have ChatGPT show you and explain to you three or so new \"unintuitively surprising statisics paradox\" (that are different form the \"world war 2 planes\" survivorship bias and Monte Hall problem) and then pick the one you think is the most interesting and paraphrase the problem and explanation in your own words\n",
    "8. Reflect on your experience interacting with ChatGPT and describe how it might have just influenced your perception of AI-driven assistance tools in the context of learning coding, statistics, and communication, and other key data science skills\n",
    "9. Write why you chose to take this course; specifically, what skills are you hoping to build through this course with repsect to your current ideas about what possible careers you think you'd like to explore\n",
    "10. Discuss your intentions above with ChatGPT and see what other suggestsions or feedback ChatGPT might have\n",
    "11. Discuss concerns you might have about succeeding in the course or entering university more generally and see what other suggestions or feedback ChatGPT might have\n",
    "12. Extend your answer to problem 8 with any additional thoughts you might have based on questions 10 and 11"
   ]
  },
  {
   "cell_type": "markdown",
   "id": "1c2a6d93",
   "metadata": {},
   "source": []
  }
 ],
 "metadata": {
  "kernelspec": {
   "display_name": "Python 3 (ipykernel)",
   "language": "python",
   "name": "python3"
  },
  "language_info": {
   "codemirror_mode": {
    "name": "ipython",
    "version": 3
   },
   "file_extension": ".py",
   "mimetype": "text/x-python",
   "name": "python",
   "nbconvert_exporter": "python",
   "pygments_lexer": "ipython3",
   "version": "3.11.6"
  }
 },
 "nbformat": 4,
 "nbformat_minor": 5
}
