{
 "cells": [
  {
   "cell_type": "markdown",
   "id": "f1c5662f",
   "metadata": {},
   "source": [
    "# STA130 TUT 08 (Nov15) <br> <u>Classification, decision Tree with sklearn, and confusion matrix <u>\n"
   ]
  },
  {
   "cell_type": "markdown",
   "id": "fa8cc949",
   "metadata": {},
   "source": [
    "## Review  / Questions [15 minutes]\n",
    "1. Follow up questions and clarifications regarding the content of Nov08 TUT and Nov11 LEC \n",
    "    > 1. (For the same data) R-squared must increase with each additional predictor variable added to the model\n",
    "    > 2. Adjusted R-squared attempts to \"correct\" this phenomenon based on a sort of \"theoretical expectation\" or \"rule of thumb\""
   ]
  },
  {
   "cell_type": "markdown",
   "id": "2a00b55b",
   "metadata": {},
   "source": [
    "## Demo (Concept of Decision Tree and Confusion Matrix)[45 minutes] \n",
    "1. **[15 of the 45 minutes]** Introduce **Train-Test** validation\n"
   ]
  },
  {
   "cell_type": "code",
   "execution_count": null,
   "id": "a60dfcf8",
   "metadata": {},
   "outputs": [],
   "source": [
    "from sklearn import datasets\n",
    "import pandas as pd\n",
    "import numpy as np\n",
    "import statsmodels.formula.api as smf"
   ]
  },
  {
   "cell_type": "code",
   "execution_count": null,
   "id": "51c468b6",
   "metadata": {},
   "outputs": [],
   "source": [
    "cancer_data = datasets.load_breast_cancer()\n",
    "cancer_df = pd.DataFrame(data=cancer_data.data, columns = cancer_data.feature_names)"
   ]
  },
  {
   "cell_type": "code",
   "execution_count": null,
   "id": "0670a35c",
   "metadata": {
    "scrolled": true
   },
   "outputs": [],
   "source": [
    "# Notice that we're not using 'target' which is binary\n",
    "# with 'target_names': array(['malignant', 'benign'], dtype='<U9')\n",
    "cancer_data"
   ]
  },
  {
   "cell_type": "code",
   "execution_count": null,
   "id": "b4c29e5f",
   "metadata": {},
   "outputs": [],
   "source": [
    "print(cancer_data['DESCR'])"
   ]
  },
  {
   "cell_type": "code",
   "execution_count": null,
   "id": "39f6a540",
   "metadata": {},
   "outputs": [],
   "source": [
    "# randomly split the data into 80% training data and 20% testing data\n",
    "np.random.seed(131)\n",
    "training_indices = cancer_df.sample(frac=0.80, replace=False).index.sort_values()\n",
    "testing_indices = cancer_df.index[~cancer_df.index.isin(training_indices)]\n",
    "# now we'll use part of the data to \"train\" the MLR and \"test\" it with the other part of the data "
   ]
  },
  {
   "cell_type": "code",
   "execution_count": null,
   "id": "ab647fb4",
   "metadata": {},
   "outputs": [],
   "source": [
    "# The outcome variable is continuous (not binary) and so are the predictor variables\n",
    "MLR = smf.ols('Q(\"mean compactness\") ~ Q(\"mean radius\") + Q(\"mean concavity\")', \n",
    "              data=cancer_df.loc[training_indices,:])\n",
    "# Fit the mulitple lienar regression model (MLR)\n",
    "MLR_fit = MLR.fit()\n",
    "np.corrcoef(MLR_fit.predict(cancer_df.loc[training_indices,:]),\n",
    "            cancer_df.loc[training_indices,\"mean compactness\"])[0,1]**2"
   ]
  },
  {
   "cell_type": "code",
   "execution_count": null,
   "id": "7c0b1421",
   "metadata": {},
   "outputs": [],
   "source": [
    "# \"In sample\" performance based on the \"training data\" (above) \n",
    "# is different from \n",
    "# \"out of sample\" performance based on the \"testing data\" (below) \n",
    "np.corrcoef(MLR_fit.predict(cancer_df.loc[testing_indices,:]),\n",
    "            cancer_df.loc[testing_indices,\"mean compactness\"])[0,1]**2"
   ]
  },
  {
   "cell_type": "code",
   "execution_count": null,
   "id": "0ad60049",
   "metadata": {},
   "outputs": [],
   "source": [
    "# The fact that the model fit as evaluated by R-squared (proportion of variation explained)\n",
    "# is worse for \"new\" data as opposed to \"data the models was trained on and has already seen\"\n",
    "# is generally what we'd expect to see in an analysis like this...\n",
    "\n",
    "# The good news is that the \"out of sample\" predictive (proportion of variation explained) performance \n",
    "# is not much worse than the \"in sample performance\" which we'd typically interpret as suggesting that\n",
    "# the model seems to represent the data fairly well"
   ]
  },
  {
   "cell_type": "markdown",
   "id": "452300ea",
   "metadata": {},
   "source": [
    "2. **[15 of the 45 minutes]** Introduce the **concept** of a decision tree, we will reserve coding for lecture.\n",
    "<img src=\"https://media.geeksforgeeks.org/wp-content/uploads/20230424141242/dcr.png\" alt=\"Optional Title\" style=\"width: 500px; height: auto;\"/>\n",
    "3. **[15 of the 45 minutes]** Introduce the **concept** of confusion matrix, we will reserve coding for lecture.\n",
    "<img src=\"https://miro.medium.com/v2/resize:fit:667/1*3yGLac6F4mTENnj5dBNvNQ.jpeg\" alt=\"Optional Title\" style=\"width: 500px; height: auto;\"/>"
   ]
  },
  {
   "cell_type": "markdown",
   "id": "86ce69a7",
   "metadata": {},
   "source": [
    "## Communication **[40 minutes]**\n",
    "\n",
    "1. **[15 minutes]** Break into 5 groups of 5 and prepare a speech describing what is the purpose of train test verification\n",
    "   \n",
    "   \n",
    "   \n",
    "2. **[25 minutes]** Discuss the implications of false positives (Type I errors) and false negatives (Type II errors) in hypothesis testing. How do these types of errors impact the conclusions we can draw from a statistical test? Consider the following in your discussion:\n",
    "> - What does a false positive (FP) represent in the context of hypothesis testing?\n",
    "> - What does a false negative (FN) represent in the context of hypothesis testing?\n",
    "> - How might the costs or consequences of these errors differ depending on the field of application (e.g., medical, environmental, manufacturing)?\n",
    "-  **Note: This discussion will prepare you well for the pre-lecture homework!**\n",
    "\n"
   ]
  }
 ],
 "metadata": {
  "kernelspec": {
   "display_name": "Python 3 (ipykernel)",
   "language": "python",
   "name": "python3"
  },
  "language_info": {
   "codemirror_mode": {
    "name": "ipython",
    "version": 3
   },
   "file_extension": ".py",
   "mimetype": "text/x-python",
   "name": "python",
   "nbconvert_exporter": "python",
   "pygments_lexer": "ipython3",
   "version": "3.11.6"
  }
 },
 "nbformat": 4,
 "nbformat_minor": 5
}
